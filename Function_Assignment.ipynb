{
  "nbformat": 4,
  "nbformat_minor": 0,
  "metadata": {
    "colab": {
      "provenance": []
    },
    "kernelspec": {
      "name": "python3",
      "display_name": "Python 3"
    },
    "language_info": {
      "name": "python"
    }
  },
  "cells": [
    {
      "cell_type": "markdown",
      "source": [
        "#**Functions**\n",
        "\n"
      ],
      "metadata": {
        "id": "v5RU0_OHtPMS"
      }
    },
    {
      "cell_type": "markdown",
      "source": [
        "**Q1**. What is the difference between a function and a method in Python?\n",
        "\n",
        "\n",
        "Python Method\n",
        "\n",
        "- Method is called by its name, but it is associated to an object (dependent).\n",
        "- A method definition always includes ‘self’ as its first parameter.\n",
        "- A method is implicitly passed to the object on which it is invoked.\n",
        "- It may or may not return any data.\n",
        "- A method can operate on the data (instance variables) that is contained by the corresponding class\n",
        "\n",
        "Functions\n",
        "\n",
        "- Function is block of code that is also called by its name. (independent)\n",
        "- The function can have different parameters or may not have any at all.\n",
        "- If any data (parameters) are passed, they are passed explicitly.\n",
        "- It may or may not return any data.\n",
        "- Function does not deal with Class and its instance concept.\n",
        "\n",
        "**Q2**. Explain the concept of function arguments and parameters in Python.\n",
        "\n",
        "-  Function arguments are values that you provide to a function when you call it. These arguments can be\n",
        "used by the function to perform specific tasks.\n",
        "\n",
        "Example1:\n",
        "\n",
        "\n",
        "\n"
      ],
      "metadata": {
        "id": "jd7p7vetcMGA"
      }
    },
    {
      "cell_type": "code",
      "source": [
        "# function to define the sum of two numbers\n",
        "# here a and b are called arguments\n",
        "def sum_(a,b):\n",
        "return a+b\n",
        "# call the function with arguments\n",
        "sum_(2,3)\n",
        "#output\n",
        "5"
      ],
      "metadata": {
        "id": "xdxHs5x0fffw"
      },
      "execution_count": null,
      "outputs": []
    },
    {
      "cell_type": "markdown",
      "source": [
        "Parameters\n",
        "\n",
        "A parameter is the variable defined within the parentheses when we declare a function.\n",
        "\n",
        "Example:"
      ],
      "metadata": {
        "id": "VKVuRh8QfouY"
      }
    },
    {
      "cell_type": "code",
      "source": [
        "# Here a,b are the parameters\n",
        "def sum(a,b):\n",
        "  print(a+b)\n",
        "\n",
        "sum(1,2)"
      ],
      "metadata": {
        "id": "77SiARCugO13"
      },
      "execution_count": null,
      "outputs": []
    },
    {
      "cell_type": "markdown",
      "source": [
        "**Q3**. What are the different ways to define and call a function in Python?\n",
        "\n",
        "- By using the word def keyword followed by the function's name and parentheses () we can define a function. If the function takes any arguments, they are included inside the parentheses. The code inside a function must be indented after the colon to indicate it belongs to that function.\n",
        "\n",
        "\n",
        "\n"
      ],
      "metadata": {
        "id": "1g4QC7HGgd9Y"
      }
    },
    {
      "cell_type": "code",
      "source": [
        "def fun():\n",
        "    print(\"Welcome to GFG\")\n",
        "\n",
        "# Defining a function with parameters\n",
        "def greet(name, age):\n",
        "    print(name, age)"
      ],
      "metadata": {
        "id": "l0mtW6qPiKRi"
      },
      "execution_count": null,
      "outputs": []
    },
    {
      "cell_type": "markdown",
      "source": [
        "- To call a function in Python, we definitely type the name of the function observed via parentheses (). If the function takes any arguments, they may be covered within the parentheses . Below is the example for calling def function Python."
      ],
      "metadata": {
        "id": "Y9sywExHiL_p"
      }
    },
    {
      "cell_type": "code",
      "source": [
        "def fun():\n",
        "    print(\"Welcome to GFG\")\n",
        "#calling a function\n",
        "fun()\n",
        "\n",
        "# Defining a function with parameters\n",
        "def greet(name, age):\n",
        "    print(name, age)\n",
        "\n",
        "#calling a function by passing arguments\n",
        "greet(\"Alice\",21)\n"
      ],
      "metadata": {
        "id": "yB0CN7uWiV-6"
      },
      "execution_count": null,
      "outputs": []
    },
    {
      "cell_type": "markdown",
      "source": [
        "**Q4**. What is the purpose of the `return` statement in a Python function?\n",
        "\n",
        "A return statement is used to end the execution of the function call and it “returns” the value of the expression following the return keyword to the caller. The statements after the return statements are not executed. If the return statement is without any expression, then the special value None is returned. A return statement is overall used to invoke a function so that the passed statements can be executed."
      ],
      "metadata": {
        "id": "BsGDGGe4icFC"
      }
    },
    {
      "cell_type": "code",
      "source": [
        "def add(a, b):\n",
        "\n",
        "    # returning sum of a and b\n",
        "    return a + b\n",
        "\n",
        "def is_true(a):\n",
        "\n",
        "    # returning boolean of a\n",
        "    return bool(a)\n",
        "\n",
        "# calling function\n",
        "res = add(2, 3)\n",
        "print(res)\n",
        "\n",
        "res = is_true(2<5)\n",
        "print(res)"
      ],
      "metadata": {
        "id": "2TOfqn4Ji4oc"
      },
      "execution_count": null,
      "outputs": []
    },
    {
      "cell_type": "markdown",
      "source": [
        "**Q5**. What are iterators in Python and how do they differ from iterables?\n",
        "\n",
        "\n",
        "- Iterable is an object, that one can iterate over. It generates an Iterator when passed to iter() method.\n",
        "- An iterator is an object, which is used to iterate over an iterable object using the __next__() method. Iterators have the __next__() method, which returns the next item of the object.\n",
        "\n",
        "Note: Every iterator is also an iterable, but not every iterable is an iterator in Python.\n",
        "\n",
        "For example, a list is iterable but a list is not an iterator. An iterator can be created from an iterable by using the function iter(). To make this possible, the class of an object needs either a method __iter__, which returns an iterator, or a __getitem__ method with sequential indexes starting with 0.\n",
        "\n"
      ],
      "metadata": {
        "id": "6Wnraoj-i_WM"
      }
    },
    {
      "cell_type": "code",
      "source": [
        "# code\n",
        "next(\"GFG\")\n"
      ],
      "metadata": {
        "id": "FmJhWj8CkTwl"
      },
      "execution_count": null,
      "outputs": []
    },
    {
      "cell_type": "markdown",
      "source": [
        "**Q6**. Explain the concept of generators in Python and how they are defined.\n",
        "\n",
        "-  Generator functions in Python are a way to create iterators in a more concise and memory-efficient manner\n",
        "-  These functions allow you to iterate over a potentially large sequence of data without loading the entire\n",
        "sequence into memory.\n",
        "\n",
        "In Python, a generator is a function that returns an iterator that produces a sequence of values when iterated over.\n",
        "\n",
        "Generators are useful when we want to produce a large sequence of values, but we don't want to store all of them in memory at once.\n",
        "\n",
        "\n"
      ],
      "metadata": {
        "id": "ifnhIZumkVs_"
      }
    },
    {
      "cell_type": "code",
      "source": [
        "def pw_skills_generator():\n",
        "yield \"Python\"\n",
        "yield \"Web Development\"\n",
        "yield \"Problem Solving\"\n",
        "yield \"Debugging\"\n",
        "# Usage\n",
        "for skill in pw_skills_generator():\n",
        "print(f\"Learn: {skill}\")\n"
      ],
      "metadata": {
        "id": "CAwxRnryprYS"
      },
      "execution_count": null,
      "outputs": []
    },
    {
      "cell_type": "markdown",
      "source": [
        "**Q7**. What are the advantages of using generators over regular functions?\n",
        "\n",
        "There are several advantages to using generators over regular loops. Here are a few of the most important ones:\n",
        "\n",
        "- Memory Efficiency: One of the biggest advantages of generators is that they are memory efficient. Since a generator yields its values one by one, it does not need to store all of the values in memory at once. This can be especially useful when working with large data sets, as it reduces the risk of running out of memory.\n",
        "- Readability: Generators can make your code easier to read and understand. By breaking up the iteration process into smaller chunks, you can write code that is more concise and easier to follow.\n",
        "- Speed: Generators can also be faster than regular loops, especially when working with large data sets. This is because they avoid the overhead of creating a list or other data structure to store the results.\n",
        "Here’s an example that demonstrates the memory efficiency and readability benefits of generators."
      ],
      "metadata": {
        "id": "_-kPkeNBpymP"
      }
    },
    {
      "cell_type": "code",
      "source": [
        "def first_million_numbers():\n",
        "    for i in range(1000000):\n",
        "        yield i\n",
        "        gen = first_million_numbers()\n",
        "print(sum(gen))"
      ],
      "metadata": {
        "id": "fCKlkTkOrXT_"
      },
      "execution_count": null,
      "outputs": []
    },
    {
      "cell_type": "markdown",
      "source": [
        "**Q8**. What is a lambda function in Python and when is it typically used?\n",
        "\n",
        "A lambda function in Python is a concise way to create anonymous functions, also known as lambda\n",
        "expressionsp\n",
        " Unlike regular functions defined using the def keyword, lambda functions are often used for short-term\n",
        "operations and are defined in a single line.\n",
        "\n",
        "You don’t need to specify a name for the function as discussed above about the syntax of lambda function. Let’s try to define a function for calculating the squares of given values."
      ],
      "metadata": {
        "id": "QU0kTozsrgnA"
      }
    },
    {
      "cell_type": "code",
      "source": [
        "# calculate squares using lambda\n",
        "squares = lambda x: x*x\n",
        "print('Using lambda: ', squares(5))\n"
      ],
      "metadata": {
        "id": "Tjf5ERBPtEu_"
      },
      "execution_count": null,
      "outputs": []
    },
    {
      "cell_type": "markdown",
      "source": [
        "**Q9**. Explain the purpose and usage of the `map()` function in Python.\n",
        "\n",
        "The map() function is used to apply a given function to every item of an iterable, such as a list or tuple, and returns a map object (which is an iterator).\n"
      ],
      "metadata": {
        "id": "7o1cRdWRtPhG"
      }
    },
    {
      "cell_type": "code",
      "source": [
        "s = ['1', '2', '3', '4']\n",
        "res = map(int, s)\n",
        "print(list(res))"
      ],
      "metadata": {
        "id": "Gu3bQpgktpoN",
        "colab": {
          "base_uri": "https://localhost:8080/"
        },
        "outputId": "da9bf2da-572c-4489-b206-c6d14135434b"
      },
      "execution_count": 6,
      "outputs": [
        {
          "output_type": "stream",
          "name": "stdout",
          "text": [
            "[1, 2, 3, 4]\n"
          ]
        }
      ]
    },
    {
      "cell_type": "markdown",
      "source": [
        "**Q10**. What is the difference between `map()`, `reduce()`, and `filter()` functions in Python?\n",
        "\n",
        "\n",
        "1. map() - Python's map() method applies a specified function to each item of an iterable (such as a list, tuple, or string) and then returns a new iterable containing the results.\n",
        "\n",
        "The map() syntax is as follows: map(function, iterable)\n",
        "\n",
        "The first argument passed to the map function is itself a function, and the second argument passed is an iterable (sequence of elements) such as a list, tuple, set, string, etc."
      ],
      "metadata": {
        "id": "EY1jNuPMuKXS"
      }
    },
    {
      "cell_type": "code",
      "source": [
        " Using map() to square each element of the data list\n",
        "data = [1, 2, 3, 4, 5]\n",
        "\n",
        "# Map function returns the map object\n",
        "squares = map(lambda x: x*x, data)\n",
        "\n",
        "# Iterating the elements of the squares\n",
        "for i in squares:\n",
        "    print(i, end=\" \")\n",
        "\n",
        "# Also, we can convert the map object into a list\n",
        "squares = list(map(lambda x: x*x, data))\n",
        "print(f\"Squares: {squares}\")"
      ],
      "metadata": {
        "id": "vB3cS4aqyKx7"
      },
      "execution_count": null,
      "outputs": []
    },
    {
      "cell_type": "markdown",
      "source": [
        "2. filter() - The filter() function in Python filters elements from an iterable based on a given condition or function and returns a new iterable with the filtered elements.\n",
        "\n",
        "The syntax for the filter() is as follows: filter(function, iterable)\n",
        "\n",
        "Here also, the first argument passed to the filter function is itself a function, and the second argument passed is an iterable (sequence of elements) such as a list, tuple, set, string, etc."
      ],
      "metadata": {
        "id": "67uyq7DYyUCD"
      }
    },
    {
      "cell_type": "code",
      "source": [
        "# Using filter() to filter even numbers from a list\n",
        "data = [1, 2, 3, 4, 5]\n",
        "\n",
        "# The filter function filters the even numbers from the data\n",
        "# and returns a filter object (an iterable)\n",
        "evens = filter(lambda x: x % 2 == 0, data)\n",
        "\n",
        "# Iterating the values of evens\n",
        "for i in evens:\n",
        "    print(i, end=\" \")\n",
        "\n",
        "# We can convert the filter object into a list as follows:\n",
        "evens = list(filter(lambda x: x % 2 == 0, data))\n",
        "\n",
        "# Printing the evens list\n",
        "print(f\"Evens = {evens}\")"
      ],
      "metadata": {
        "id": "ek3reJuSyTYH"
      },
      "execution_count": null,
      "outputs": []
    },
    {
      "cell_type": "markdown",
      "source": [
        "3. reduce() - In Python, reduce() is a built-in function that applies a given function to the elements of an iterable, reducing them to a single value.\n",
        "\n",
        "The syntax for reduce() is as follows: reduce(function, iterable[, initializer])\n",
        "\n",
        "The function argument is a function that takes two arguments and returns a single value. The first argument is the accumulated value, and the second argument is the current value from the iterable."
      ],
      "metadata": {
        "id": "JcVc44LLyupE"
      }
    },
    {
      "cell_type": "code",
      "source": [
        "# Examples to understand the reduce() function\n",
        "from functools import reduce\n",
        "\n",
        "# Function that returns the sum of two numbers\n",
        "def add(a, b):\n",
        "    return a + b\n",
        "\n",
        "# Our Iterable\n",
        "num_list = [1, 2, 3, 4, 5, 6, 7, 8, 9, 10]\n",
        "\n",
        "# add function is passed as the first argument, and num_list is passed as the second argument\n",
        "sum = reduce(add, num_list)\n",
        "print(f\"Sum of the integers of num_list : {sum}\")\n",
        "\n",
        "# Passing 10 as an initial value\n",
        "sum = reduce(add, num_list, 10)\n",
        "print(f\"Sum of the integers of num_list with initial value 10 : {sum}\")"
      ],
      "metadata": {
        "id": "tInnACNmy281"
      },
      "execution_count": null,
      "outputs": []
    },
    {
      "cell_type": "markdown",
      "source": [
        "**Q11**. Using pen & Paper write the internal mechanism for sum operation using  reduce function on this given\n",
        "list:[47,11,42,13];"
      ],
      "metadata": {
        "id": "RDUsGQXYy_MI"
      }
    },
    {
      "cell_type": "markdown",
      "source": [
        "![WhatsApp Image 2025-01-20 at 7.26.18 PM.jpeg](data:image/jpeg;base64,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)"
      ],
      "metadata": {
        "id": "uh97jqhhAg8l"
      }
    },
    {
      "cell_type": "markdown",
      "source": [
        "##**PRACTICAL**"
      ],
      "metadata": {
        "id": "cw4OLQCrzPKN"
      }
    },
    {
      "cell_type": "markdown",
      "source": [
        "**Q1**. Write a Python function that takes a list of numbers as input and returns the sum of all even numbers in the list.\n",
        "\n"
      ],
      "metadata": {
        "id": "tqhTECjdzUib"
      }
    },
    {
      "cell_type": "code",
      "source": [
        "# Define a list of numbers\n",
        "numbers = [10, 20, 30, 40, 50]\n",
        "\n",
        "# Initialize a variable to store the sum\n",
        "total = 0\n",
        "\n",
        "# Iterate through the list and add each number to the total\n",
        "for num in numbers:\n",
        "    total += num\n",
        "\n",
        "# Print the sum of the numbers\n",
        "print(\"The sum of the numbers is:\", total)"
      ],
      "metadata": {
        "id": "b0OgtoJ3-at4",
        "colab": {
          "base_uri": "https://localhost:8080/"
        },
        "outputId": "7cf2d25e-ffe4-4d63-9ad8-247cc65a6d94"
      },
      "execution_count": null,
      "outputs": [
        {
          "output_type": "stream",
          "name": "stdout",
          "text": [
            "The sum of the numbers is: 150\n"
          ]
        }
      ]
    },
    {
      "cell_type": "markdown",
      "source": [
        "**Q2**. Create a Python function that accepts a string and returns the reverse of that string."
      ],
      "metadata": {
        "id": "bB2jj8MWzpGy"
      }
    },
    {
      "cell_type": "code",
      "source": [
        "string = input(\"Enter a string: \")  # take input from user\n",
        "reverse_string = string[::-1]  # slice the string to reverse it\n",
        "print(\"Reversed string:\", reverse_string)  # print the reversed string\n"
      ],
      "metadata": {
        "id": "UhL8SxWaz3Kv",
        "colab": {
          "base_uri": "https://localhost:8080/"
        },
        "outputId": "cc501dce-930a-45af-b53c-353ebd60a0b9"
      },
      "execution_count": null,
      "outputs": [
        {
          "output_type": "stream",
          "name": "stdout",
          "text": [
            "Enter a string: \"Hello world\"\n",
            "Reversed string: \"dlrow olleH\"\n"
          ]
        }
      ]
    },
    {
      "cell_type": "markdown",
      "source": [
        "**Q3**. Implement a Python function that takes a list of integers and returns a new list containing the squares of\n",
        "each number."
      ],
      "metadata": {
        "id": "qcXag2_Cz31c"
      }
    },
    {
      "cell_type": "code",
      "source": [
        "numbers = [1, 2, 3, 4, 5]\n",
        "squared_numbers = square_numbers(numbers)\n",
        "print(squared_numbers)"
      ],
      "metadata": {
        "id": "1ZjA-Pmjz8BE",
        "colab": {
          "base_uri": "https://localhost:8080/"
        },
        "outputId": "fc82cee3-1d12-4afd-82d2-5139a4bc034c"
      },
      "execution_count": null,
      "outputs": [
        {
          "output_type": "stream",
          "name": "stdout",
          "text": [
            "[1, 4, 9, 16, 25]\n"
          ]
        }
      ]
    },
    {
      "cell_type": "markdown",
      "source": [
        "**Q4**. Write a Python function that checks if a given number is prime or not from 1 to 200."
      ],
      "metadata": {
        "id": "kARvgM_rz8kA"
      }
    },
    {
      "cell_type": "code",
      "source": [
        "def is_prime(num):\n",
        "    if num <= 1:\n",
        "        return False\n",
        "    for i in range(2, int(num**0.5) + 1):\n",
        "        if num % i == 0:\n",
        "            return False\n",
        "    return True\n",
        "primes = []\n",
        "for num in range(1, 200):\n",
        "    if is_prime(num):\n",
        "        primes.append(num)\n",
        "print(primes)"
      ],
      "metadata": {
        "colab": {
          "base_uri": "https://localhost:8080/"
        },
        "id": "zUIPP71GxIy5",
        "outputId": "e5e7d488-75e6-4695-8d4e-3e2ea7705c63"
      },
      "execution_count": null,
      "outputs": [
        {
          "output_type": "stream",
          "name": "stdout",
          "text": [
            "[2, 3, 5, 7, 11, 13, 17, 19, 23, 29, 31, 37, 41, 43, 47, 53, 59, 61, 67, 71, 73, 79, 83, 89, 97, 101, 103, 107, 109, 113, 127, 131, 137, 139, 149, 151, 157, 163, 167, 173, 179, 181, 191, 193, 197, 199]\n"
          ]
        }
      ]
    },
    {
      "cell_type": "markdown",
      "source": [
        "**Q5**.Create an iterator class in Python that generates the Fibonacci sequence up to a specified number of\n",
        "terms"
      ],
      "metadata": {
        "id": "zetU-49k0Fx0"
      }
    },
    {
      "cell_type": "code",
      "source": [
        "def print_fibonacci_numbers(n):\n",
        "    f1, f2 = 0, 1\n",
        "\n",
        "    if n < 1:\n",
        "        return\n",
        "\n",
        "    print(f1, end=\" \")\n",
        "\n",
        "    for i in range(1, n):\n",
        "        print(f2, end=\" \")\n",
        "        next_fibonacci = f1 + f2\n",
        "        f1, f2 = f2, next_fibonacci\n",
        "\n",
        "# Driver Code\n",
        "if __name__ == \"__main__\":\n",
        "    print_fibonacci_numbers(10)"
      ],
      "metadata": {
        "id": "vBSyvaEY0M4v",
        "colab": {
          "base_uri": "https://localhost:8080/"
        },
        "outputId": "1f929f77-09c1-4c6f-8d33-a034695669bc"
      },
      "execution_count": null,
      "outputs": [
        {
          "output_type": "stream",
          "name": "stdout",
          "text": [
            "0 1 1 2 3 5 8 13 21 34 "
          ]
        }
      ]
    },
    {
      "cell_type": "markdown",
      "source": [
        "**Q6**.Write a generator function in Python that yields the powers of 2 up to a given exponent."
      ],
      "metadata": {
        "id": "gEHGb4GY0Nju"
      }
    },
    {
      "cell_type": "code",
      "source": [
        "def fun(max):\n",
        "    cnt = 2\n",
        "    while cnt <= max:\n",
        "        yield cnt\n",
        "        cnt += 2\n",
        "\n",
        "ctr = fun(5)\n",
        "for n in ctr:\n",
        "    print(n)\n"
      ],
      "metadata": {
        "id": "m5OdugZi0UJT",
        "colab": {
          "base_uri": "https://localhost:8080/"
        },
        "outputId": "43e292be-4a5f-462d-ae4c-26cf619cd0e4"
      },
      "execution_count": null,
      "outputs": [
        {
          "output_type": "stream",
          "name": "stdout",
          "text": [
            "2\n",
            "4\n"
          ]
        }
      ]
    },
    {
      "cell_type": "markdown",
      "source": [
        "**Q7**. Implement a generator function that reads a file line by line and yields each line as a string."
      ],
      "metadata": {
        "id": "R2AsupsG0Utw"
      }
    },
    {
      "cell_type": "code",
      "source": [
        "L = [\"Geeks\\n\", \"for\\n\", \"Geeks\\n\"]\n",
        "\n",
        "# Writing to file\n",
        "file1 = open('myfile.txt', 'w')\n",
        "file1.writelines(L)\n",
        "file1.close()\n",
        "\n",
        "# Opening file\n",
        "file1 = open('myfile.txt', 'r')\n",
        "count = 0\n",
        "\n",
        "# Using for loop\n",
        "print(\"Using for loop\")\n",
        "for line in file1:\n",
        "    count += 1\n",
        "    print(\"Line{}: {}\".format(count, line.strip()))\n",
        "\n",
        "# Closing files\n",
        "file1.close()"
      ],
      "metadata": {
        "colab": {
          "base_uri": "https://localhost:8080/"
        },
        "id": "cMWgjEuv_SeI",
        "outputId": "113c5f36-634c-48a3-a907-00dbeba9e893"
      },
      "execution_count": null,
      "outputs": [
        {
          "output_type": "stream",
          "name": "stdout",
          "text": [
            "Using for loop\n",
            "Line1: Geeks\n",
            "Line2: for\n",
            "Line3: Geeks\n"
          ]
        }
      ]
    },
    {
      "cell_type": "markdown",
      "source": [
        "**Q8**.Use a lambda function in Python to sort a list of tuples based on the second element of each tuple."
      ],
      "metadata": {
        "id": "h462kkfx0a4x"
      }
    },
    {
      "cell_type": "code",
      "source": [
        "# List of tuples\n",
        "tuples_list = [(1, 5), (2, 3), (4, 1), (3, 7)]\n",
        "\n",
        "# Sorting using a lambda function based on the second element of each tuple\n",
        "sorted_list = sorted(tuples_list, key=lambda x: x[1])\n",
        "\n",
        "# Output the sorted list\n",
        "print(sorted_list)"
      ],
      "metadata": {
        "id": "7P54psHx0e39",
        "colab": {
          "base_uri": "https://localhost:8080/"
        },
        "outputId": "8ba08fe7-98be-44ac-aca6-efe28a599be1"
      },
      "execution_count": null,
      "outputs": [
        {
          "output_type": "stream",
          "name": "stdout",
          "text": [
            "[(4, 1), (2, 3), (1, 5), (3, 7)]\n"
          ]
        }
      ]
    },
    {
      "cell_type": "markdown",
      "source": [
        "**Q9**. Write a Python program that uses `map()` to convert a list of temperatures from Celsius to Fahrenheit."
      ],
      "metadata": {
        "id": "rNPLK4_X0fh6"
      }
    },
    {
      "cell_type": "code",
      "source": [
        "# List of temperatures in Celsius\n",
        "celsius_temps = [0, 20, 37, 100, -10]\n",
        "\n",
        "# Function to convert Celsius to Fahrenheit\n",
        "def celsius_to_fahrenheit(celsius):\n",
        "    return (celsius * 9/5) + 32\n",
        "\n",
        "# Use map() to apply the conversion function to each element in the list\n",
        "fahrenheit_temps = list(map(celsius_to_fahrenheit, celsius_temps))\n",
        "\n",
        "# Output the converted temperatures\n",
        "print(fahrenheit_temps)"
      ],
      "metadata": {
        "id": "jpD07WYw0kA4",
        "colab": {
          "base_uri": "https://localhost:8080/"
        },
        "outputId": "ec7c67ad-93cd-418d-fb4f-d01b457a79d6"
      },
      "execution_count": null,
      "outputs": [
        {
          "output_type": "stream",
          "name": "stdout",
          "text": [
            "[32.0, 68.0, 98.6, 212.0, 14.0]\n"
          ]
        }
      ]
    },
    {
      "cell_type": "markdown",
      "source": [
        "**Q10**. Create a Python program that uses `filter()` to remove all the vowels from a given string."
      ],
      "metadata": {
        "id": "eGK1bKhP0kjP"
      }
    },
    {
      "cell_type": "code",
      "source": [
        "def remove_vowels(input_string):\n",
        "    vowels = \"aeiouAEIOU\"\n",
        "    # Use filter() to keep only characters that are not vowels\n",
        "    result = filter(lambda x: x not in vowels, input_string)\n",
        "    # Join the result back into a string\n",
        "    return ''.join(result)\n",
        "    # Example usage\n",
        "input_string = \"Hello, World!\"\n",
        "output_string = remove_vowels(input_string)\n",
        "print(output_string)"
      ],
      "metadata": {
        "id": "vCBP2jEg0qMs",
        "colab": {
          "base_uri": "https://localhost:8080/"
        },
        "outputId": "6de43127-8d66-4b65-b93b-9163d82b4cac"
      },
      "execution_count": null,
      "outputs": [
        {
          "output_type": "stream",
          "name": "stdout",
          "text": [
            "Hll, Wrld!\n"
          ]
        }
      ]
    }
  ]
}